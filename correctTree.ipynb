{
 "cells": [
  {
   "cell_type": "code",
   "execution_count": 26,
   "metadata": {},
   "outputs": [],
   "source": [
    "file = 'tree.txt'\n",
    "outFile = 'tree_mod.txt'"
   ]
  },
  {
   "cell_type": "code",
   "execution_count": 27,
   "metadata": {},
   "outputs": [],
   "source": [
    "def removeSpace(sent):\n",
    "    out = ''\n",
    "    n = len(sent)\n",
    "    i = 0\n",
    "    while i<n:\n",
    "        out = out + sent[i]\n",
    "        if line[i] == ')':\n",
    "            i = i + 1\n",
    "            while i<n and sent[i] == ' ':\n",
    "                i = i + 1\n",
    "            i = i - 1\n",
    "        i = i + 1\n",
    "    return out"
   ]
  },
  {
   "cell_type": "code",
   "execution_count": 28,
   "metadata": {},
   "outputs": [],
   "source": [
    "f = open(file, 'r')\n",
    "outF = open(outFile,'w')\n",
    "for line in f:\n",
    "    out = removeSpace(line)\n",
    "    outF.write(out)"
   ]
  }
 ],
 "metadata": {
  "kernelspec": {
   "display_name": "Python 3",
   "language": "python",
   "name": "python3"
  },
  "language_info": {
   "codemirror_mode": {
    "name": "ipython",
    "version": 3
   },
   "file_extension": ".py",
   "mimetype": "text/x-python",
   "name": "python",
   "nbconvert_exporter": "python",
   "pygments_lexer": "ipython3",
   "version": "3.7.3"
  }
 },
 "nbformat": 4,
 "nbformat_minor": 4
}
